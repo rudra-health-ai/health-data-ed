{
 "cells": [
  {
   "cell_type": "markdown",
   "metadata": {},
   "source": [
    "# 🐍 Python Basics for AI in Healthcare\n",
    "\n",
    "Welcome! This notebook covers the basics of Python you'll use in bioinformatics, machine learning, and healthcare AI."
   ]
  },
  {
   "cell_type": "code",
   "execution_count": null,
   "metadata": {},
   "outputs": [],
   "source": [
    "# 🧮 Numbers and Math\n",
    "a = 10\n",
    "b = 5\n",
    "print(\"Addition:\", a + b)\n",
    "print(\"Multiplication:\", a * b)"
   ]
  },
  {
   "cell_type": "code",
   "execution_count": null,
   "metadata": {},
   "outputs": [],
   "source": [
    "# 📦 Lists and Loops\n",
    "patients = [\"Alice\", \"Bob\", \"Charlie\"]\n",
    "for name in patients:\n",
    "    print(\"Patient:\", name)"
   ]
  },
  {
   "cell_type": "code",
   "execution_count": null,
   "metadata": {},
   "outputs": [],
   "source": [
    "# 📄 Functions\n",
    "def bmi(weight, height):\n",
    "    return weight / (height ** 2)\n",
    "\n",
    "print(\"BMI:\", bmi(70, 1.75))"
   ]
  },
  {
   "cell_type": "markdown",
   "metadata": {},
   "source": [
    "🔄 Next Steps: Learn about pandas, numpy, and how to load healthcare data from CSV files."
   ]
  }
 ],
 "metadata": {
  "kernelspec": {
   "display_name": "Python 3",
   "language": "python",
   "name": "python3"
  },
  "language_info": {
   "name": "python",
   "version": "3.10"
  }
 },
 "nbformat": 4,
 "nbformat_minor": 5
}
